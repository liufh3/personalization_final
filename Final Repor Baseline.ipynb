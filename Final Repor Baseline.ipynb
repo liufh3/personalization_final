{
 "cells": [
  {
   "cell_type": "markdown",
   "metadata": {},
   "source": [
    "# Final Project for Personalization"
   ]
  },
  {
   "cell_type": "markdown",
   "metadata": {},
   "source": [
    "## 0. Importing libs\n",
    "we are using several common libs includes:\n",
    "- pandas\n",
    "- numpy \n",
    "- sklearn\n",
    "- scipy\n",
    "\n",
    "to deal with general data structure and also fastFM for fastorization machine."
   ]
  },
  {
   "cell_type": "code",
   "execution_count": 3,
   "metadata": {},
   "outputs": [],
   "source": [
    "import pandas as pd\n",
    "import numpy as np\n",
    "import json\n",
    "from tqdm import tqdm_notebook\n",
    "import collections\n",
    "import time\n",
    "import bisect\n",
    "import matplotlib.pyplot as plt\n",
    "import scipy\n",
    "from fastFM import als\n",
    "from sklearn.feature_extraction import DictVectorizer\n",
    "from scipy.sparse import csr_matrix, hstack\n",
    "from sklearn.feature_extraction.text import TfidfVectorizer\n",
    "from util import load_json, get_sum_count"
   ]
  },
  {
   "cell_type": "code",
   "execution_count": 4,
   "metadata": {},
   "outputs": [],
   "source": [
    "from pyspark.ml.evaluation import RegressionEvaluator\n",
    "from pyspark.ml.recommendation import ALS\n",
    "from pyspark.sql import Row\n",
    "from pyspark.sql.types import IntegerType\n",
    "from pyspark.ml.tuning import ParamGridBuilder, CrossValidator\n",
    "from pyspark.context import SparkContext\n",
    "from pyspark.sql.session import SparkSession\n",
    "import time"
   ]
  },
  {
   "cell_type": "markdown",
   "metadata": {},
   "source": [
    "## 1. Data Preprocessing\n",
    "In this section we first decompress all the json file with self implemented function imported from util.py \n",
    "and then we filter out unactive user and split the dataset into train and test data. Also we generate\n",
    "several auxiliry dataframe for group statistics for further usage.\n"
   ]
  },
  {
   "cell_type": "markdown",
   "metadata": {},
   "source": [
    "### 1.1 Json Data Decompress "
   ]
  },
  {
   "cell_type": "code",
   "execution_count": 3,
   "metadata": {
    "scrolled": true
   },
   "outputs": [
    {
     "data": {
      "application/vnd.jupyter.widget-view+json": {
       "model_id": "ac03af5a4d6e468eb8bc8cbac49fee57",
       "version_major": 2,
       "version_minor": 0
      },
      "text/plain": [
       "HBox(children=(IntProgress(value=0, max=6685900), HTML(value='')))"
      ]
     },
     "metadata": {},
     "output_type": "display_data"
    },
    {
     "name": "stdout",
     "output_type": "stream",
     "text": [
      "\n"
     ]
    },
    {
     "data": {
      "application/vnd.jupyter.widget-view+json": {
       "model_id": "329e207b6b4c4435949921abf068ed68",
       "version_major": 2,
       "version_minor": 0
      },
      "text/plain": [
       "HBox(children=(IntProgress(value=0, max=192609), HTML(value='')))"
      ]
     },
     "metadata": {},
     "output_type": "display_data"
    },
    {
     "name": "stdout",
     "output_type": "stream",
     "text": [
      "\n"
     ]
    },
    {
     "data": {
      "application/vnd.jupyter.widget-view+json": {
       "model_id": "bcde4ae6edb342088bd893b1bc96cd64",
       "version_major": 2,
       "version_minor": 0
      },
      "text/plain": [
       "HBox(children=(IntProgress(value=0, max=161950), HTML(value='')))"
      ]
     },
     "metadata": {},
     "output_type": "display_data"
    },
    {
     "name": "stdout",
     "output_type": "stream",
     "text": [
      "\n"
     ]
    },
    {
     "data": {
      "application/vnd.jupyter.widget-view+json": {
       "model_id": "0fa6424145b047be98d672aa26ee9f57",
       "version_major": 2,
       "version_minor": 0
      },
      "text/plain": [
       "HBox(children=(IntProgress(value=0, max=1223094), HTML(value='')))"
      ]
     },
     "metadata": {},
     "output_type": "display_data"
    },
    {
     "name": "stdout",
     "output_type": "stream",
     "text": [
      "\n"
     ]
    },
    {
     "data": {
      "application/vnd.jupyter.widget-view+json": {
       "model_id": "21a68c1f88d548aebe41c27b1190237d",
       "version_major": 2,
       "version_minor": 0
      },
      "text/plain": [
       "HBox(children=(IntProgress(value=0, max=1637138), HTML(value='')))"
      ]
     },
     "metadata": {},
     "output_type": "display_data"
    },
    {
     "name": "stdout",
     "output_type": "stream",
     "text": [
      "\n"
     ]
    },
    {
     "data": {
      "application/vnd.jupyter.widget-view+json": {
       "model_id": "bd6fdf1cac5f416cbc4d26ab4b7ddfc3",
       "version_major": 2,
       "version_minor": 0
      },
      "text/plain": [
       "HBox(children=(IntProgress(value=0, max=200000), HTML(value='')))"
      ]
     },
     "metadata": {},
     "output_type": "display_data"
    },
    {
     "name": "stdout",
     "output_type": "stream",
     "text": [
      "\n"
     ]
    }
   ],
   "source": [
    "for file_name in ['review','business','checkin','tip','user','photo']:\n",
    "    load_json(file_name)"
   ]
  },
  {
   "cell_type": "code",
   "execution_count": 3,
   "metadata": {
    "scrolled": false
   },
   "outputs": [
    {
     "data": {
      "text/html": [
       "<div>\n",
       "<style scoped>\n",
       "    .dataframe tbody tr th:only-of-type {\n",
       "        vertical-align: middle;\n",
       "    }\n",
       "\n",
       "    .dataframe tbody tr th {\n",
       "        vertical-align: top;\n",
       "    }\n",
       "\n",
       "    .dataframe thead th {\n",
       "        text-align: right;\n",
       "    }\n",
       "</style>\n",
       "<table border=\"1\" class=\"dataframe\">\n",
       "  <thead>\n",
       "    <tr style=\"text-align: right;\">\n",
       "      <th></th>\n",
       "      <th>review_id</th>\n",
       "      <th>user_id</th>\n",
       "      <th>business_id</th>\n",
       "      <th>stars</th>\n",
       "      <th>useful</th>\n",
       "      <th>funny</th>\n",
       "      <th>cool</th>\n",
       "      <th>text</th>\n",
       "      <th>date</th>\n",
       "    </tr>\n",
       "  </thead>\n",
       "  <tbody>\n",
       "    <tr>\n",
       "      <th>0</th>\n",
       "      <td>Q1sbwvVQXV2734tPgoKj4Q</td>\n",
       "      <td>hG7b0MtEbXx5QzbzE6C_VA</td>\n",
       "      <td>ujmEBvifdJM6h6RLv4wQIg</td>\n",
       "      <td>1.0</td>\n",
       "      <td>6</td>\n",
       "      <td>1</td>\n",
       "      <td>0</td>\n",
       "      <td>Total bill for this horrible service? Over $8G...</td>\n",
       "      <td>2013-05-07 04:34:36</td>\n",
       "    </tr>\n",
       "    <tr>\n",
       "      <th>1</th>\n",
       "      <td>GJXCdrto3ASJOqKeVWPi6Q</td>\n",
       "      <td>yXQM5uF2jS6es16SJzNHfg</td>\n",
       "      <td>NZnhc2sEQy3RmzKTZnqtwQ</td>\n",
       "      <td>5.0</td>\n",
       "      <td>0</td>\n",
       "      <td>0</td>\n",
       "      <td>0</td>\n",
       "      <td>I *adore* Travis at the Hard Rock's new Kelly ...</td>\n",
       "      <td>2017-01-14 21:30:33</td>\n",
       "    </tr>\n",
       "    <tr>\n",
       "      <th>2</th>\n",
       "      <td>2TzJjDVDEuAW6MR5Vuc1ug</td>\n",
       "      <td>n6-Gk65cPZL6Uz8qRm3NYw</td>\n",
       "      <td>WTqjgwHlXbSFevF32_DJVw</td>\n",
       "      <td>5.0</td>\n",
       "      <td>3</td>\n",
       "      <td>0</td>\n",
       "      <td>0</td>\n",
       "      <td>I have to say that this office really has it t...</td>\n",
       "      <td>2016-11-09 20:09:03</td>\n",
       "    </tr>\n",
       "  </tbody>\n",
       "</table>\n",
       "</div>"
      ],
      "text/plain": [
       "                review_id                 user_id             business_id  \\\n",
       "0  Q1sbwvVQXV2734tPgoKj4Q  hG7b0MtEbXx5QzbzE6C_VA  ujmEBvifdJM6h6RLv4wQIg   \n",
       "1  GJXCdrto3ASJOqKeVWPi6Q  yXQM5uF2jS6es16SJzNHfg  NZnhc2sEQy3RmzKTZnqtwQ   \n",
       "2  2TzJjDVDEuAW6MR5Vuc1ug  n6-Gk65cPZL6Uz8qRm3NYw  WTqjgwHlXbSFevF32_DJVw   \n",
       "\n",
       "   stars  useful  funny  cool  \\\n",
       "0    1.0       6      1     0   \n",
       "1    5.0       0      0     0   \n",
       "2    5.0       3      0     0   \n",
       "\n",
       "                                                text                 date  \n",
       "0  Total bill for this horrible service? Over $8G...  2013-05-07 04:34:36  \n",
       "1  I *adore* Travis at the Hard Rock's new Kelly ...  2017-01-14 21:30:33  \n",
       "2  I have to say that this office really has it t...  2016-11-09 20:09:03  "
      ]
     },
     "execution_count": 3,
     "metadata": {},
     "output_type": "execute_result"
    }
   ],
   "source": [
    "review_df = pd.read_csv('./yelp_dataset/review.csv')\n",
    "review_df.head(3)"
   ]
  },
  {
   "cell_type": "code",
   "execution_count": 5,
   "metadata": {},
   "outputs": [
    {
     "data": {
      "text/html": [
       "<div>\n",
       "<style scoped>\n",
       "    .dataframe tbody tr th:only-of-type {\n",
       "        vertical-align: middle;\n",
       "    }\n",
       "\n",
       "    .dataframe tbody tr th {\n",
       "        vertical-align: top;\n",
       "    }\n",
       "\n",
       "    .dataframe thead th {\n",
       "        text-align: right;\n",
       "    }\n",
       "</style>\n",
       "<table border=\"1\" class=\"dataframe\">\n",
       "  <thead>\n",
       "    <tr style=\"text-align: right;\">\n",
       "      <th></th>\n",
       "      <th>business_id</th>\n",
       "      <th>name</th>\n",
       "      <th>address</th>\n",
       "      <th>city</th>\n",
       "      <th>state</th>\n",
       "      <th>postal_code</th>\n",
       "      <th>latitude</th>\n",
       "      <th>longitude</th>\n",
       "      <th>stars</th>\n",
       "      <th>review_count</th>\n",
       "      <th>is_open</th>\n",
       "      <th>attributes</th>\n",
       "      <th>categories</th>\n",
       "      <th>hours</th>\n",
       "    </tr>\n",
       "  </thead>\n",
       "  <tbody>\n",
       "    <tr>\n",
       "      <th>0</th>\n",
       "      <td>1SWheh84yJXfytovILXOAQ</td>\n",
       "      <td>Arizona Biltmore Golf Club</td>\n",
       "      <td>2818 E Camino Acequia Drive</td>\n",
       "      <td>Phoenix</td>\n",
       "      <td>AZ</td>\n",
       "      <td>85016</td>\n",
       "      <td>33.522143</td>\n",
       "      <td>-112.018481</td>\n",
       "      <td>3.0</td>\n",
       "      <td>5</td>\n",
       "      <td>0</td>\n",
       "      <td>{'GoodForKids': 'False'}</td>\n",
       "      <td>Golf, Active Life</td>\n",
       "      <td>NaN</td>\n",
       "    </tr>\n",
       "    <tr>\n",
       "      <th>1</th>\n",
       "      <td>QXAEGFB4oINsVuTFxEYKFQ</td>\n",
       "      <td>Emerald Chinese Restaurant</td>\n",
       "      <td>30 Eglinton Avenue W</td>\n",
       "      <td>Mississauga</td>\n",
       "      <td>ON</td>\n",
       "      <td>L5R 3E7</td>\n",
       "      <td>43.605499</td>\n",
       "      <td>-79.652289</td>\n",
       "      <td>2.5</td>\n",
       "      <td>128</td>\n",
       "      <td>1</td>\n",
       "      <td>{'RestaurantsReservations': 'True', 'GoodForMe...</td>\n",
       "      <td>Specialty Food, Restaurants, Dim Sum, Imported...</td>\n",
       "      <td>{'Monday': '9:0-0:0', 'Tuesday': '9:0-0:0', 'W...</td>\n",
       "    </tr>\n",
       "    <tr>\n",
       "      <th>2</th>\n",
       "      <td>gnKjwL_1w79qoiV3IC_xQQ</td>\n",
       "      <td>Musashi Japanese Restaurant</td>\n",
       "      <td>10110 Johnston Rd, Ste 15</td>\n",
       "      <td>Charlotte</td>\n",
       "      <td>NC</td>\n",
       "      <td>28210</td>\n",
       "      <td>35.092564</td>\n",
       "      <td>-80.859132</td>\n",
       "      <td>4.0</td>\n",
       "      <td>170</td>\n",
       "      <td>1</td>\n",
       "      <td>{'GoodForKids': 'True', 'NoiseLevel': \"u'avera...</td>\n",
       "      <td>Sushi Bars, Restaurants, Japanese</td>\n",
       "      <td>{'Monday': '17:30-21:30', 'Wednesday': '17:30-...</td>\n",
       "    </tr>\n",
       "  </tbody>\n",
       "</table>\n",
       "</div>"
      ],
      "text/plain": [
       "              business_id                         name  \\\n",
       "0  1SWheh84yJXfytovILXOAQ   Arizona Biltmore Golf Club   \n",
       "1  QXAEGFB4oINsVuTFxEYKFQ   Emerald Chinese Restaurant   \n",
       "2  gnKjwL_1w79qoiV3IC_xQQ  Musashi Japanese Restaurant   \n",
       "\n",
       "                       address         city state postal_code   latitude  \\\n",
       "0  2818 E Camino Acequia Drive      Phoenix    AZ       85016  33.522143   \n",
       "1         30 Eglinton Avenue W  Mississauga    ON     L5R 3E7  43.605499   \n",
       "2    10110 Johnston Rd, Ste 15    Charlotte    NC       28210  35.092564   \n",
       "\n",
       "    longitude  stars  review_count  is_open  \\\n",
       "0 -112.018481    3.0             5        0   \n",
       "1  -79.652289    2.5           128        1   \n",
       "2  -80.859132    4.0           170        1   \n",
       "\n",
       "                                          attributes  \\\n",
       "0                           {'GoodForKids': 'False'}   \n",
       "1  {'RestaurantsReservations': 'True', 'GoodForMe...   \n",
       "2  {'GoodForKids': 'True', 'NoiseLevel': \"u'avera...   \n",
       "\n",
       "                                          categories  \\\n",
       "0                                  Golf, Active Life   \n",
       "1  Specialty Food, Restaurants, Dim Sum, Imported...   \n",
       "2                  Sushi Bars, Restaurants, Japanese   \n",
       "\n",
       "                                               hours  \n",
       "0                                                NaN  \n",
       "1  {'Monday': '9:0-0:0', 'Tuesday': '9:0-0:0', 'W...  \n",
       "2  {'Monday': '17:30-21:30', 'Wednesday': '17:30-...  "
      ]
     },
     "execution_count": 5,
     "metadata": {},
     "output_type": "execute_result"
    }
   ],
   "source": [
    "business_df = pd.read_csv('./yelp_dataset/business.csv')\n",
    "business_df.head(3)"
   ]
  },
  {
   "cell_type": "code",
   "execution_count": 9,
   "metadata": {},
   "outputs": [
    {
     "name": "stderr",
     "output_type": "stream",
     "text": [
      "F:\\Anaconda\\lib\\site-packages\\IPython\\core\\interactiveshell.py:3049: DtypeWarning: Columns (7) have mixed types. Specify dtype option on import or set low_memory=False.\n",
      "  interactivity=interactivity, compiler=compiler, result=result)\n"
     ]
    },
    {
     "data": {
      "text/html": [
       "<div>\n",
       "<style scoped>\n",
       "    .dataframe tbody tr th:only-of-type {\n",
       "        vertical-align: middle;\n",
       "    }\n",
       "\n",
       "    .dataframe tbody tr th {\n",
       "        vertical-align: top;\n",
       "    }\n",
       "\n",
       "    .dataframe thead th {\n",
       "        text-align: right;\n",
       "    }\n",
       "</style>\n",
       "<table border=\"1\" class=\"dataframe\">\n",
       "  <thead>\n",
       "    <tr style=\"text-align: right;\">\n",
       "      <th></th>\n",
       "      <th>user_id</th>\n",
       "      <th>name</th>\n",
       "      <th>review_count</th>\n",
       "      <th>yelping_since</th>\n",
       "      <th>useful</th>\n",
       "      <th>funny</th>\n",
       "      <th>cool</th>\n",
       "      <th>elite</th>\n",
       "      <th>friends</th>\n",
       "      <th>fans</th>\n",
       "      <th>...</th>\n",
       "      <th>compliment_more</th>\n",
       "      <th>compliment_profile</th>\n",
       "      <th>compliment_cute</th>\n",
       "      <th>compliment_list</th>\n",
       "      <th>compliment_note</th>\n",
       "      <th>compliment_plain</th>\n",
       "      <th>compliment_cool</th>\n",
       "      <th>compliment_funny</th>\n",
       "      <th>compliment_writer</th>\n",
       "      <th>compliment_photos</th>\n",
       "    </tr>\n",
       "  </thead>\n",
       "  <tbody>\n",
       "    <tr>\n",
       "      <th>0</th>\n",
       "      <td>l6BmjZMeQD3rDxWUbiAiow</td>\n",
       "      <td>Rashmi</td>\n",
       "      <td>95</td>\n",
       "      <td>2013-10-08 23:11:33</td>\n",
       "      <td>84</td>\n",
       "      <td>17</td>\n",
       "      <td>25</td>\n",
       "      <td>2015,2016,2017</td>\n",
       "      <td>c78V-rj8NQcQjOI8KP3UEA, alRMgPcngYSCJ5naFRBz5g...</td>\n",
       "      <td>5</td>\n",
       "      <td>...</td>\n",
       "      <td>0</td>\n",
       "      <td>0</td>\n",
       "      <td>0</td>\n",
       "      <td>0</td>\n",
       "      <td>1</td>\n",
       "      <td>1</td>\n",
       "      <td>1</td>\n",
       "      <td>1</td>\n",
       "      <td>2</td>\n",
       "      <td>0</td>\n",
       "    </tr>\n",
       "    <tr>\n",
       "      <th>1</th>\n",
       "      <td>4XChL029mKr5hydo79Ljxg</td>\n",
       "      <td>Jenna</td>\n",
       "      <td>33</td>\n",
       "      <td>2013-02-21 22:29:06</td>\n",
       "      <td>48</td>\n",
       "      <td>22</td>\n",
       "      <td>16</td>\n",
       "      <td>NaN</td>\n",
       "      <td>kEBTgDvFX754S68FllfCaA, aB2DynOxNOJK9st2ZeGTPg...</td>\n",
       "      <td>4</td>\n",
       "      <td>...</td>\n",
       "      <td>0</td>\n",
       "      <td>0</td>\n",
       "      <td>0</td>\n",
       "      <td>0</td>\n",
       "      <td>0</td>\n",
       "      <td>0</td>\n",
       "      <td>1</td>\n",
       "      <td>1</td>\n",
       "      <td>0</td>\n",
       "      <td>0</td>\n",
       "    </tr>\n",
       "    <tr>\n",
       "      <th>2</th>\n",
       "      <td>bc8C_eETBWL0olvFSJJd0w</td>\n",
       "      <td>David</td>\n",
       "      <td>16</td>\n",
       "      <td>2013-10-04 00:16:10</td>\n",
       "      <td>28</td>\n",
       "      <td>8</td>\n",
       "      <td>10</td>\n",
       "      <td>NaN</td>\n",
       "      <td>4N-HU_T32hLENLntsNKNBg, pSY2vwWLgWfGVAAiKQzMng...</td>\n",
       "      <td>0</td>\n",
       "      <td>...</td>\n",
       "      <td>0</td>\n",
       "      <td>0</td>\n",
       "      <td>0</td>\n",
       "      <td>0</td>\n",
       "      <td>1</td>\n",
       "      <td>0</td>\n",
       "      <td>0</td>\n",
       "      <td>0</td>\n",
       "      <td>0</td>\n",
       "      <td>0</td>\n",
       "    </tr>\n",
       "  </tbody>\n",
       "</table>\n",
       "<p>3 rows × 22 columns</p>\n",
       "</div>"
      ],
      "text/plain": [
       "                  user_id    name  review_count        yelping_since  useful  \\\n",
       "0  l6BmjZMeQD3rDxWUbiAiow  Rashmi            95  2013-10-08 23:11:33      84   \n",
       "1  4XChL029mKr5hydo79Ljxg   Jenna            33  2013-02-21 22:29:06      48   \n",
       "2  bc8C_eETBWL0olvFSJJd0w   David            16  2013-10-04 00:16:10      28   \n",
       "\n",
       "   funny  cool           elite  \\\n",
       "0     17    25  2015,2016,2017   \n",
       "1     22    16             NaN   \n",
       "2      8    10             NaN   \n",
       "\n",
       "                                             friends  fans  ...  \\\n",
       "0  c78V-rj8NQcQjOI8KP3UEA, alRMgPcngYSCJ5naFRBz5g...     5  ...   \n",
       "1  kEBTgDvFX754S68FllfCaA, aB2DynOxNOJK9st2ZeGTPg...     4  ...   \n",
       "2  4N-HU_T32hLENLntsNKNBg, pSY2vwWLgWfGVAAiKQzMng...     0  ...   \n",
       "\n",
       "   compliment_more  compliment_profile  compliment_cute  compliment_list  \\\n",
       "0                0                   0                0                0   \n",
       "1                0                   0                0                0   \n",
       "2                0                   0                0                0   \n",
       "\n",
       "   compliment_note  compliment_plain  compliment_cool  compliment_funny  \\\n",
       "0                1                 1                1                 1   \n",
       "1                0                 0                1                 1   \n",
       "2                1                 0                0                 0   \n",
       "\n",
       "   compliment_writer  compliment_photos  \n",
       "0                  2                  0  \n",
       "1                  0                  0  \n",
       "2                  0                  0  \n",
       "\n",
       "[3 rows x 22 columns]"
      ]
     },
     "execution_count": 9,
     "metadata": {},
     "output_type": "execute_result"
    }
   ],
   "source": [
    "user_df = pd.read_csv('./yelp_dataset/user.csv')\n",
    "user_df.head(3)"
   ]
  },
  {
   "cell_type": "markdown",
   "metadata": {},
   "source": [
    "### 1.2 Unactive User Filter Out & Train/Test Split"
   ]
  },
  {
   "cell_type": "markdown",
   "metadata": {},
   "source": [
    "#### 1.2.1 Unactive Filter"
   ]
  },
  {
   "cell_type": "code",
   "execution_count": 10,
   "metadata": {},
   "outputs": [],
   "source": [
    "user_count = review_df['user_id'].value_counts()\n",
    "user_count = pd.DataFrame(user_count)\n",
    "user_count = user_count[user_count['user_id'] >= 5]\n",
    "user_count = user_count.reset_index()\n",
    "user_count.columns = ['user_id','count']"
   ]
  },
  {
   "cell_type": "code",
   "execution_count": 11,
   "metadata": {},
   "outputs": [],
   "source": [
    "active_review_df = review_df.merge(user_count,on = 'user_id', how = 'inner')"
   ]
  },
  {
   "cell_type": "code",
   "execution_count": 12,
   "metadata": {},
   "outputs": [
    {
     "name": "stdout",
     "output_type": "stream",
     "text": [
      "17.47745150378282% of user are active user\n",
      "67.87825124515771% of reviews are rated by active user\n"
     ]
    }
   ],
   "source": [
    "print(str(len(user_count)*1.0/len(review_df['user_id'].value_counts())*100) + '% of user are active user')\n",
    "print(str(len(active_review_df)*1.0/len(review_df)*100) + '% of reviews are rated by active user')"
   ]
  },
  {
   "cell_type": "markdown",
   "metadata": {},
   "source": [
    "As for here, we can see that only 17% users are active user and 17% user generated 67% reviews, which indicates a long-tail effect within the dataset."
   ]
  },
  {
   "cell_type": "markdown",
   "metadata": {},
   "source": [
    "#### Train/Test Split\n",
    "To split the last comment and rating of each active user, we need to sort all user by the review time within each user group. Here we user dataframe groupby and apply function to extremely shorten the time consumption"
   ]
  },
  {
   "cell_type": "code",
   "execution_count": 13,
   "metadata": {},
   "outputs": [
    {
     "name": "stdout",
     "output_type": "stream",
     "text": [
      "finished in 1427.1481153964996 sec.\n",
      "finished in 479.75861501693726 sec.\n"
     ]
    }
   ],
   "source": [
    "sorted_group = active_review_df.sort_values('date').groupby('user_id')\n",
    "\n",
    "\n",
    "start = time.time()\n",
    "train_df = sorted_group.apply(lambda x:x[:-1])\n",
    "print('finished in '+ str(time.time() - start) + ' sec.')\n",
    "\n",
    "\n",
    "start = time.time()\n",
    "test_df = sorted_group.apply(lambda x:x[-1:])\n",
    "print('finished in '+ str(time.time() - start) + ' sec.')"
   ]
  },
  {
   "cell_type": "markdown",
   "metadata": {},
   "source": [
    "And we save train and test data for further usage"
   ]
  },
  {
   "cell_type": "code",
   "execution_count": 14,
   "metadata": {},
   "outputs": [],
   "source": [
    "train_df = train_df.reset_index(drop = True)\n",
    "train_df.to_csv('train.csv')\n",
    "test_df = test_df.reset_index(drop = True)\n",
    "test_df.to_csv('test.csv')"
   ]
  },
  {
   "cell_type": "code",
   "execution_count": 12,
   "metadata": {},
   "outputs": [],
   "source": [
    "train_df = pd.read_csv('train.csv')\n",
    "test_df = pd.read_csv('test.csv')"
   ]
  },
  {
   "cell_type": "markdown",
   "metadata": {},
   "source": [
    "### 1.3 Calculate Sum Dict\n",
    "sum_dict is a dictionary that contain the rating information for each user\n",
    "for each user_id as a key, the value is another dictionary contain the count of how many ratings scores are under (included) 2,3,4,5 and 6 reletively. This is used for calculating the rank accuracy for each test data point.\n",
    "For instance, when we have a test sample with score of 4 and we predict it as 3, and suppose the user is user A\n",
    "Then the rank of the original score is the sum of the scores rated by A under 4, and the rank of the predicted score is the sum of the scores rated by A under 3. Then we calculated the rank correlation to get the overall rank accuracy. See example below for the sum_dict"
   ]
  },
  {
   "cell_type": "code",
   "execution_count": 13,
   "metadata": {},
   "outputs": [
    {
     "data": {
      "application/vnd.jupyter.widget-view+json": {
       "model_id": "f762c3c612b148ee87adf9b1e8a9cbd0",
       "version_major": 2,
       "version_minor": 0
      },
      "text/plain": [
       "HBox(children=(IntProgress(value=0, max=286130), HTML(value='')))"
      ]
     },
     "metadata": {},
     "output_type": "display_data"
    },
    {
     "name": "stdout",
     "output_type": "stream",
     "text": [
      "\n"
     ]
    }
   ],
   "source": [
    "sum_dict = get_sum_count(train_df)"
   ]
  },
  {
   "cell_type": "code",
   "execution_count": 36,
   "metadata": {},
   "outputs": [
    {
     "data": {
      "text/plain": [
       "[17, 22, 32, 55, 127]"
      ]
     },
     "execution_count": 36,
     "metadata": {},
     "output_type": "execute_result"
    }
   ],
   "source": [
    "sum_dict[\"---1lKK3aKOuomHnwAkAow\"]"
   ]
  },
  {
   "cell_type": "markdown",
   "metadata": {},
   "source": [
    "As we can see above, for user \"---1lKK3aKOuomHnwAkAow\", he or she has 17 score 1, 5 score 2, 10 score 3, 23 score 4 and 72 score 5. So that within all his or her ratings, there are 17 reviews have a score under 2 and 22 reviews have a score under 3 and so on.\n",
    "Thus, when we have a new predicted score come in, we can quickly give the rank of that prediction by reading the corresponding summation of the count of the reviews with specific score. And then accelerate the calculating of rank accuracy"
   ]
  },
  {
   "cell_type": "markdown",
   "metadata": {},
   "source": [
    "## 2. Data Visualization\n",
    "In this section, we explore the dataset and generate several figure about the data trying to show sme insight of the dataset."
   ]
  },
  {
   "cell_type": "markdown",
   "metadata": {},
   "source": [
    "### 2.1 Active Users"
   ]
  },
  {
   "cell_type": "code",
   "execution_count": 44,
   "metadata": {},
   "outputs": [],
   "source": [
    "active_user_df = user_df.merge(user_count,on = 'user_id', how = 'inner')"
   ]
  },
  {
   "cell_type": "code",
   "execution_count": 45,
   "metadata": {},
   "outputs": [
    {
     "data": {
      "text/html": [
       "<div>\n",
       "<style scoped>\n",
       "    .dataframe tbody tr th:only-of-type {\n",
       "        vertical-align: middle;\n",
       "    }\n",
       "\n",
       "    .dataframe tbody tr th {\n",
       "        vertical-align: top;\n",
       "    }\n",
       "\n",
       "    .dataframe thead th {\n",
       "        text-align: right;\n",
       "    }\n",
       "</style>\n",
       "<table border=\"1\" class=\"dataframe\">\n",
       "  <thead>\n",
       "    <tr style=\"text-align: right;\">\n",
       "      <th></th>\n",
       "      <th>average_stars</th>\n",
       "      <th>review_count</th>\n",
       "      <th>useful</th>\n",
       "    </tr>\n",
       "  </thead>\n",
       "  <tbody>\n",
       "    <tr>\n",
       "      <th>count</th>\n",
       "      <td>286130.000000</td>\n",
       "      <td>286130.000000</td>\n",
       "      <td>286130.000000</td>\n",
       "    </tr>\n",
       "    <tr>\n",
       "      <th>mean</th>\n",
       "      <td>3.748822</td>\n",
       "      <td>60.538759</td>\n",
       "      <td>137.842348</td>\n",
       "    </tr>\n",
       "    <tr>\n",
       "      <th>std</th>\n",
       "      <td>0.706024</td>\n",
       "      <td>156.690863</td>\n",
       "      <td>1058.085528</td>\n",
       "    </tr>\n",
       "    <tr>\n",
       "      <th>min</th>\n",
       "      <td>1.000000</td>\n",
       "      <td>1.000000</td>\n",
       "      <td>0.000000</td>\n",
       "    </tr>\n",
       "    <tr>\n",
       "      <th>25%</th>\n",
       "      <td>3.380000</td>\n",
       "      <td>9.000000</td>\n",
       "      <td>5.000000</td>\n",
       "    </tr>\n",
       "    <tr>\n",
       "      <th>50%</th>\n",
       "      <td>3.830000</td>\n",
       "      <td>16.000000</td>\n",
       "      <td>14.000000</td>\n",
       "    </tr>\n",
       "    <tr>\n",
       "      <th>75%</th>\n",
       "      <td>4.220000</td>\n",
       "      <td>43.000000</td>\n",
       "      <td>45.000000</td>\n",
       "    </tr>\n",
       "    <tr>\n",
       "      <th>max</th>\n",
       "      <td>5.000000</td>\n",
       "      <td>13278.000000</td>\n",
       "      <td>154202.000000</td>\n",
       "    </tr>\n",
       "  </tbody>\n",
       "</table>\n",
       "</div>"
      ],
      "text/plain": [
       "       average_stars   review_count         useful\n",
       "count  286130.000000  286130.000000  286130.000000\n",
       "mean        3.748822      60.538759     137.842348\n",
       "std         0.706024     156.690863    1058.085528\n",
       "min         1.000000       1.000000       0.000000\n",
       "25%         3.380000       9.000000       5.000000\n",
       "50%         3.830000      16.000000      14.000000\n",
       "75%         4.220000      43.000000      45.000000\n",
       "max         5.000000   13278.000000  154202.000000"
      ]
     },
     "execution_count": 45,
     "metadata": {},
     "output_type": "execute_result"
    }
   ],
   "source": [
    "active_user_df.describe()[['average_stars','review_count','useful']]"
   ]
  },
  {
   "cell_type": "markdown",
   "metadata": {},
   "source": [
    "As we can see here, the statistics of average stars, review count and useful are shown as above. In fact people tends to rating 3.74 which is higher than 3.0 as the average overall ratings. And in general for each user they may contribute 22 reviews and there are even a user contribute 13278 reviews(that's incredible actual, saying the user had been an active user for 10 years and contribute review everyday within last 10 years, he or she still need  to contribute aroun 3 to 4 reviews per day). And useful is another important statistic, for us to evaluate the importance of an user of a review. Most people have a 0 useful and a few have a high useful, it's like a social media."
   ]
  },
  {
   "cell_type": "code",
   "execution_count": 46,
   "metadata": {},
   "outputs": [
    {
     "data": {
      "image/png": "[encoded data removed]",
      "text/plain": [
       "<Figure size 432x288 with 1 Axes>"
      ]
     },
     "metadata": {},
     "output_type": "display_data"
    }
   ],
   "source": [
    "plt.hist(active_user_df['average_stars'],bins = 20)\n",
    "plt.show()"
   ]
  },
  {
   "cell_type": "markdown",
   "metadata": {},
   "source": [
    "Average stars seems like a right skewed normal distribution."
   ]
  },
  {
   "cell_type": "code",
   "execution_count": 48,
   "metadata": {},
   "outputs": [
    {
     "data": {
      "image/png": "[encoded data removed]",
      "text/plain": [
       "<Figure size 432x288 with 1 Axes>"
      ]
     },
     "metadata": {},
     "output_type": "display_data"
    }
   ],
   "source": [
    "plt.hist(active_user_df['review_count'],bins = 20)\n",
    "plt.yscale('log')\n",
    "plt.show()b"
   ]
  },
  {
   "cell_type": "markdown",
   "metadata": {},
   "source": [
    "To show this clearly, we change the scale for y axis as log-scale. Obviously, there is a long tail effect in this data"
   ]
  },
  {
   "cell_type": "code",
   "execution_count": 49,
   "metadata": {
    "scrolled": true
   },
   "outputs": [
    {
     "data": {
      "image/png": "[encoded data removed]",
      "text/plain": [
       "<Figure size 432x288 with 1 Axes>"
      ]
     },
     "metadata": {},
     "output_type": "display_data"
    }
   ],
   "source": [
    "plt.hist(active_user_df['useful'],bins = 20)\n",
    "plt.yscale('log')\n",
    "plt.show()"
   ]
  },
  {
   "cell_type": "markdown",
   "metadata": {},
   "source": [
    "similar to the review count, useful is long-tailed"
   ]
  },
  {
   "cell_type": "markdown",
   "metadata": {},
   "source": [
    "## 2.2 Business"
   ]
  },
  {
   "cell_type": "code",
   "execution_count": 50,
   "metadata": {},
   "outputs": [
    {
     "data": {
      "text/html": [
       "<div>\n",
       "<style scoped>\n",
       "    .dataframe tbody tr th:only-of-type {\n",
       "        vertical-align: middle;\n",
       "    }\n",
       "\n",
       "    .dataframe tbody tr th {\n",
       "        vertical-align: top;\n",
       "    }\n",
       "\n",
       "    .dataframe thead th {\n",
       "        text-align: right;\n",
       "    }\n",
       "</style>\n",
       "<table border=\"1\" class=\"dataframe\">\n",
       "  <thead>\n",
       "    <tr style=\"text-align: right;\">\n",
       "      <th></th>\n",
       "      <th>is_open</th>\n",
       "      <th>latitude</th>\n",
       "      <th>longitude</th>\n",
       "      <th>review_count</th>\n",
       "      <th>stars</th>\n",
       "    </tr>\n",
       "  </thead>\n",
       "  <tbody>\n",
       "    <tr>\n",
       "      <th>count</th>\n",
       "      <td>192609.000000</td>\n",
       "      <td>192609.000000</td>\n",
       "      <td>192609.000000</td>\n",
       "      <td>192609.000000</td>\n",
       "      <td>192609.000000</td>\n",
       "    </tr>\n",
       "    <tr>\n",
       "      <th>mean</th>\n",
       "      <td>0.823040</td>\n",
       "      <td>38.541803</td>\n",
       "      <td>-97.594785</td>\n",
       "      <td>33.538962</td>\n",
       "      <td>3.585627</td>\n",
       "    </tr>\n",
       "    <tr>\n",
       "      <th>std</th>\n",
       "      <td>0.381635</td>\n",
       "      <td>4.941964</td>\n",
       "      <td>16.697725</td>\n",
       "      <td>110.135224</td>\n",
       "      <td>1.018458</td>\n",
       "    </tr>\n",
       "    <tr>\n",
       "      <th>min</th>\n",
       "      <td>0.000000</td>\n",
       "      <td>33.204642</td>\n",
       "      <td>-115.493471</td>\n",
       "      <td>3.000000</td>\n",
       "      <td>1.000000</td>\n",
       "    </tr>\n",
       "    <tr>\n",
       "      <th>25%</th>\n",
       "      <td>1.000000</td>\n",
       "      <td>33.637408</td>\n",
       "      <td>-112.274677</td>\n",
       "      <td>4.000000</td>\n",
       "      <td>3.000000</td>\n",
       "    </tr>\n",
       "    <tr>\n",
       "      <th>50%</th>\n",
       "      <td>1.000000</td>\n",
       "      <td>36.144815</td>\n",
       "      <td>-111.759324</td>\n",
       "      <td>9.000000</td>\n",
       "      <td>3.500000</td>\n",
       "    </tr>\n",
       "    <tr>\n",
       "      <th>75%</th>\n",
       "      <td>1.000000</td>\n",
       "      <td>43.602989</td>\n",
       "      <td>-79.983614</td>\n",
       "      <td>25.000000</td>\n",
       "      <td>4.500000</td>\n",
       "    </tr>\n",
       "    <tr>\n",
       "      <th>max</th>\n",
       "      <td>1.000000</td>\n",
       "      <td>51.299943</td>\n",
       "      <td>-72.911982</td>\n",
       "      <td>8348.000000</td>\n",
       "      <td>5.000000</td>\n",
       "    </tr>\n",
       "  </tbody>\n",
       "</table>\n",
       "</div>"
      ],
      "text/plain": [
       "             is_open       latitude      longitude   review_count  \\\n",
       "count  192609.000000  192609.000000  192609.000000  192609.000000   \n",
       "mean        0.823040      38.541803     -97.594785      33.538962   \n",
       "std         0.381635       4.941964      16.697725     110.135224   \n",
       "min         0.000000      33.204642    -115.493471       3.000000   \n",
       "25%         1.000000      33.637408    -112.274677       4.000000   \n",
       "50%         1.000000      36.144815    -111.759324       9.000000   \n",
       "75%         1.000000      43.602989     -79.983614      25.000000   \n",
       "max         1.000000      51.299943     -72.911982    8348.000000   \n",
       "\n",
       "               stars  \n",
       "count  192609.000000  \n",
       "mean        3.585627  \n",
       "std         1.018458  \n",
       "min         1.000000  \n",
       "25%         3.000000  \n",
       "50%         3.500000  \n",
       "75%         4.500000  \n",
       "max         5.000000  "
      ]
     },
     "execution_count": 50,
     "metadata": {},
     "output_type": "execute_result"
    }
   ],
   "source": [
    "business_df.describe()"
   ]
  },
  {
   "cell_type": "markdown",
   "metadata": {},
   "source": [
    "There are 82% business are still open, however, including the closed business may help us build better recommend system. "
   ]
  },
  {
   "cell_type": "markdown",
   "metadata": {},
   "source": [
    "## 2.3 Review"
   ]
  },
  {
   "cell_type": "code",
   "execution_count": 53,
   "metadata": {},
   "outputs": [
    {
     "data": {
      "text/html": [
       "<div>\n",
       "<style scoped>\n",
       "    .dataframe tbody tr th:only-of-type {\n",
       "        vertical-align: middle;\n",
       "    }\n",
       "\n",
       "    .dataframe tbody tr th {\n",
       "        vertical-align: top;\n",
       "    }\n",
       "\n",
       "    .dataframe thead th {\n",
       "        text-align: right;\n",
       "    }\n",
       "</style>\n",
       "<table border=\"1\" class=\"dataframe\">\n",
       "  <thead>\n",
       "    <tr style=\"text-align: right;\">\n",
       "      <th></th>\n",
       "      <th>cool</th>\n",
       "      <th>funny</th>\n",
       "      <th>stars</th>\n",
       "      <th>useful</th>\n",
       "      <th>count</th>\n",
       "    </tr>\n",
       "  </thead>\n",
       "  <tbody>\n",
       "    <tr>\n",
       "      <th>count</th>\n",
       "      <td>4.252140e+06</td>\n",
       "      <td>4.252140e+06</td>\n",
       "      <td>4.252140e+06</td>\n",
       "      <td>4.252140e+06</td>\n",
       "      <td>4.252140e+06</td>\n",
       "    </tr>\n",
       "    <tr>\n",
       "      <th>mean</th>\n",
       "      <td>7.766306e-01</td>\n",
       "      <td>6.230369e-01</td>\n",
       "      <td>3.748399e+00</td>\n",
       "      <td>1.626710e+00</td>\n",
       "      <td>8.740699e+01</td>\n",
       "    </tr>\n",
       "    <tr>\n",
       "      <th>std</th>\n",
       "      <td>2.803070e+00</td>\n",
       "      <td>2.597718e+00</td>\n",
       "      <td>1.351254e+00</td>\n",
       "      <td>3.960639e+00</td>\n",
       "      <td>2.116509e+02</td>\n",
       "    </tr>\n",
       "    <tr>\n",
       "      <th>min</th>\n",
       "      <td>-1.000000e+00</td>\n",
       "      <td>0.000000e+00</td>\n",
       "      <td>1.000000e+00</td>\n",
       "      <td>-1.000000e+00</td>\n",
       "      <td>5.000000e+00</td>\n",
       "    </tr>\n",
       "    <tr>\n",
       "      <th>25%</th>\n",
       "      <td>0.000000e+00</td>\n",
       "      <td>0.000000e+00</td>\n",
       "      <td>3.000000e+00</td>\n",
       "      <td>0.000000e+00</td>\n",
       "      <td>1.100000e+01</td>\n",
       "    </tr>\n",
       "    <tr>\n",
       "      <th>50%</th>\n",
       "      <td>0.000000e+00</td>\n",
       "      <td>0.000000e+00</td>\n",
       "      <td>4.000000e+00</td>\n",
       "      <td>1.000000e+00</td>\n",
       "      <td>2.600000e+01</td>\n",
       "    </tr>\n",
       "    <tr>\n",
       "      <th>75%</th>\n",
       "      <td>1.000000e+00</td>\n",
       "      <td>0.000000e+00</td>\n",
       "      <td>5.000000e+00</td>\n",
       "      <td>2.000000e+00</td>\n",
       "      <td>7.900000e+01</td>\n",
       "    </tr>\n",
       "    <tr>\n",
       "      <th>max</th>\n",
       "      <td>2.900000e+02</td>\n",
       "      <td>9.700000e+02</td>\n",
       "      <td>5.000000e+00</td>\n",
       "      <td>1.241000e+03</td>\n",
       "      <td>4.129000e+03</td>\n",
       "    </tr>\n",
       "  </tbody>\n",
       "</table>\n",
       "</div>"
      ],
      "text/plain": [
       "               cool         funny         stars        useful         count\n",
       "count  4.252140e+06  4.252140e+06  4.252140e+06  4.252140e+06  4.252140e+06\n",
       "mean   7.766306e-01  6.230369e-01  3.748399e+00  1.626710e+00  8.740699e+01\n",
       "std    2.803070e+00  2.597718e+00  1.351254e+00  3.960639e+00  2.116509e+02\n",
       "min   -1.000000e+00  0.000000e+00  1.000000e+00 -1.000000e+00  5.000000e+00\n",
       "25%    0.000000e+00  0.000000e+00  3.000000e+00  0.000000e+00  1.100000e+01\n",
       "50%    0.000000e+00  0.000000e+00  4.000000e+00  1.000000e+00  2.600000e+01\n",
       "75%    1.000000e+00  0.000000e+00  5.000000e+00  2.000000e+00  7.900000e+01\n",
       "max    2.900000e+02  9.700000e+02  5.000000e+00  1.241000e+03  4.129000e+03"
      ]
     },
     "execution_count": 53,
     "metadata": {},
     "output_type": "execute_result"
    }
   ],
   "source": [
    "train_df.describe()"
   ]
  },
  {
   "cell_type": "markdown",
   "metadata": {},
   "source": [
    "Similar to the useful in active users, reviews have cool and funny attribute, but also seems long tail."
   ]
  },
  {
   "cell_type": "code",
   "execution_count": 57,
   "metadata": {
    "scrolled": true
   },
   "outputs": [
    {
     "data": {
      "image/png": "[encoded data removed]",
      "text/plain": [
       "<Figure size 432x288 with 1 Axes>"
      ]
     },
     "metadata": {},
     "output_type": "display_data"
    }
   ],
   "source": [
    "plt.hist(train_df['stars'],bins = 20)\n",
    "plt.show()"
   ]
  },
  {
   "cell_type": "markdown",
   "metadata": {},
   "source": [
    "Not same as average stars for each user, the stars distribution of reviews are not normal distribution, bu a more complicated one. People tends to rate more extreme score than average case. We can see rather than rate a 2, people tends to directly give a 1 instead or a 3."
   ]
  },
  {
   "cell_type": "code",
   "execution_count": 56,
   "metadata": {},
   "outputs": [
    {
     "data": {
      "image/png": "[encoded data removed]",
      "text/plain": [
       "<Figure size 432x288 with 1 Axes>"
      ]
     },
     "metadata": {},
     "output_type": "display_data"
    }
   ],
   "source": [
    "plt.hist(train_df['useful'],bins = 20)\n",
    "plt.yscale('log')\n",
    "plt.show()"
   ]
  },
  {
   "cell_type": "code",
   "execution_count": 58,
   "metadata": {},
   "outputs": [
    {
     "data": {
      "image/png": "[encoded data removed]",
      "text/plain": [
       "<Figure size 432x288 with 1 Axes>"
      ]
     },
     "metadata": {},
     "output_type": "display_data"
    }
   ],
   "source": [
    "plt.hist(train_df['funny'],bins = 20)\n",
    "plt.yscale('log')\n",
    "plt.show()"
   ]
  },
  {
   "cell_type": "code",
   "execution_count": 59,
   "metadata": {},
   "outputs": [
    {
     "data": {
      "image/png": "[encoded data removed]",
      "text/plain": [
       "<Figure size 432x288 with 1 Axes>"
      ]
     },
     "metadata": {},
     "output_type": "display_data"
    }
   ],
   "source": [
    "plt.hist(train_df['cool'],bins = 20)\n",
    "plt.yscale('log')\n",
    "plt.show()"
   ]
  },
  {
   "cell_type": "markdown",
   "metadata": {},
   "source": [
    "Seems clicking cool attribute action is less concentrate rather than useful or funny."
   ]
  },
  {
   "cell_type": "markdown",
   "metadata": {},
   "source": [
    "## 3. Baseline"
   ]
  },
  {
   "cell_type": "markdown",
   "metadata": {},
   "source": [
    "In this section, we will first discuss about the metrics we used to evaluate or recommend system and then talk about several baseline from random guess to a simple collaborative filtering and use the above metrics to have a sense of the difficulty of the problem."
   ]
  },
  {
   "cell_type": "markdown",
   "metadata": {},
   "source": [
    "### 3.1 Metrics\n",
    "For the problem, we set up 3 method to evaluate our result. Mean Absolute Error, Mean Square Error, and Rank Accuracy. MAE and MSE are easy to understand and easy to implement. These two method evaluate the general error, from different perspective, MAE is the most geenral one and MSE punish more on larger difference.\n",
    "Rank Accuracy, as we discussed a bit in section 1.3, we calculate the correlation score of the rank of true score for each test sample and the rank of predicted score for each test sample. As absolute score may not mean the same for different user, however, rank may be more meaningful."
   ]
  },
  {
   "cell_type": "code",
   "execution_count": 27,
   "metadata": {},
   "outputs": [],
   "source": [
    "def mae(true, pred):\n",
    "    '''\n",
    "    true: as a vector\n",
    "    pred: as a vector\n",
    "    calculating mean absolute error\n",
    "    '''\n",
    "    assert len(true) == len(pred)\n",
    "    return np.mean(np.abs(true - pred))\n",
    "\n",
    "\n",
    "def mse(true, pred):\n",
    "    '''\n",
    "    true as a vector\n",
    "    pred as a vector\n",
    "    calculating mean square error\n",
    "    '''\n",
    "    assert len(true) == len(pred)\n",
    "    return np.mean(np.abs(true - pred) * np.abs(true - pred))\n",
    "\n",
    "\n",
    "def get_rank(sum_dict, arraylike):\n",
    "    score = arraylike['stars']\n",
    "    user = arraylike['user_id']\n",
    "    return sum_dict[user][min(max(1,int(score + 0.5)),5) - 1]\n",
    "\n",
    "\n",
    "def get_rank_pred(sum_dict, arraylike):\n",
    "    score = arraylike['prediction']\n",
    "    user = arraylike['user_id']\n",
    "    return sum_dict[user][min(max(1,int(score + 0.5)),5) - 1]\n",
    "\n",
    "\n",
    "def rank_accuracy(sum_dict, prediction):\n",
    "    '''\n",
    "    input prediction dataframe and make user_id as index\n",
    "    '''\n",
    "    rank_true = prediction.apply(lambda x: get_rank(sum_dict, x), axis=1)\n",
    "    rank_pred = prediction.apply(lambda x: get_rank_pred(sum_dict, x), axis=1)\n",
    "    return np.corrcoef(rank_true, rank_pred)[0][1]\n"
   ]
  },
  {
   "cell_type": "code",
   "execution_count": 15,
   "metadata": {},
   "outputs": [],
   "source": [
    "def get_metrics(sum_dict,pred_df):\n",
    "    return (mae(pred_df['stars'],pred_df['prediction']),\n",
    "            mse(pred_df['stars'],pred_df['prediction']),\n",
    "            rank_accuracy(sum_dict,pred_df))"
   ]
  },
  {
   "cell_type": "markdown",
   "metadata": {},
   "source": [
    "Code is shown above and also could be found in metrics.py"
   ]
  },
  {
   "cell_type": "markdown",
   "metadata": {},
   "source": [
    "### 3.2 Random Guess\n",
    "We first apply a random guess regressor to have a sense of lower bound of the problem."
   ]
  },
  {
   "cell_type": "code",
   "execution_count": 16,
   "metadata": {},
   "outputs": [],
   "source": [
    "y_pred = np.random.choice([1,2,3,4,5],size = [len(test_df)])\n",
    "pred_df = test_df.copy()\n",
    "pred_df['prediction'] = y_pred"
   ]
  },
  {
   "cell_type": "code",
   "execution_count": 84,
   "metadata": {},
   "outputs": [
    {
     "data": {
      "text/html": [
       "<div>\n",
       "<style scoped>\n",
       "    .dataframe tbody tr th:only-of-type {\n",
       "        vertical-align: middle;\n",
       "    }\n",
       "\n",
       "    .dataframe tbody tr th {\n",
       "        vertical-align: top;\n",
       "    }\n",
       "\n",
       "    .dataframe thead th {\n",
       "        text-align: right;\n",
       "    }\n",
       "</style>\n",
       "<table border=\"1\" class=\"dataframe\">\n",
       "  <thead>\n",
       "    <tr style=\"text-align: right;\">\n",
       "      <th></th>\n",
       "      <th>mae_score</th>\n",
       "      <th>mse_score</th>\n",
       "      <th>rank_accuracy_score</th>\n",
       "    </tr>\n",
       "  </thead>\n",
       "  <tbody>\n",
       "    <tr>\n",
       "      <th>random_guess</th>\n",
       "      <td>1.782483</td>\n",
       "      <td>4.916178</td>\n",
       "      <td>0.666511</td>\n",
       "    </tr>\n",
       "  </tbody>\n",
       "</table>\n",
       "</div>"
      ],
      "text/plain": [
       "              mae_score  mse_score  rank_accuracy_score\n",
       "random_guess   1.782483   4.916178             0.666511"
      ]
     },
     "execution_count": 84,
     "metadata": {},
     "output_type": "execute_result"
    }
   ],
   "source": [
    "mae_score,mse_score,rank_accuracy_score = get_metrics(sum_dict,pred_df)\n",
    "result = pd.DataFrame(columns = ['mae_score','mse_score','rank_accuracy_score'])\n",
    "result.loc['random_guess'] = [mae_score,mse_score,rank_accuracy_score]\n",
    "result"
   ]
  },
  {
   "cell_type": "markdown",
   "metadata": {},
   "source": [
    "### 3.3 Baseline - Matrix Factorization"
   ]
  },
  {
   "cell_type": "markdown",
   "metadata": {},
   "source": [
    "Then, we tried to trian a matrix factorization model as our baseline model only using user_id, business_id and stars."
   ]
  },
  {
   "cell_type": "markdown",
   "metadata": {},
   "source": [
    "Since we will use ALS in spark, which requires user_id and business_id to be numerical, we first transform user_id and business_id to user_index and business_index"
   ]
  },
  {
   "cell_type": "code",
   "execution_count": 4,
   "metadata": {},
   "outputs": [],
   "source": [
    "train = train_df[['user_id','business_id','stars','date']]\n",
    "test = test_df[['user_id','business_id','stars','date']]"
   ]
  },
  {
   "cell_type": "code",
   "execution_count": 5,
   "metadata": {},
   "outputs": [],
   "source": [
    "n = train_df.shape[0]\n",
    "m = test_df.shape[0]\n",
    "train_user_id = train_df['user_id'].unique()\n",
    "train_business_id = train_df['business_id'].unique()\n",
    "user_id_index = {}\n",
    "business_id_index = {}\n",
    "for i in range(len(train_user_id)):\n",
    "    user_id_index[train_user_id[i]] = i\n",
    "for i in range(len(train_business_id)):\n",
    "    business_id_index[train_business_id[i]] = i\n",
    "    \n",
    "nu = len(user_id_index)\n",
    "nb = len(business_id_index)\n",
    "test_user_id = test_df['user_id'].unique()\n",
    "test_business_id = test_df['business_id'].unique()\n",
    "for i in range(len(test_user_id)):\n",
    "    if test_user_id[i] not in user_id_index:\n",
    "        user_id_index[test_user_id[i]] = nu\n",
    "        nu += 1\n",
    "for i in range(len(test_business_id)):\n",
    "    if test_business_id[i] not in business_id_index:\n",
    "        business_id_index[test_business_id[i]] = nb\n",
    "        nb += 1"
   ]
  },
  {
   "cell_type": "code",
   "execution_count": 8,
   "metadata": {
    "scrolled": true
   },
   "outputs": [
    {
     "name": "stderr",
     "output_type": "stream",
     "text": [
      "F:\\Anaconda\\lib\\site-packages\\ipykernel_launcher.py:1: SettingWithCopyWarning: \n",
      "A value is trying to be set on a copy of a slice from a DataFrame.\n",
      "Try using .loc[row_indexer,col_indexer] = value instead\n",
      "\n",
      "See the caveats in the documentation: http://pandas.pydata.org/pandas-docs/stable/indexing.html#indexing-view-versus-copy\n",
      "  \"\"\"Entry point for launching an IPython kernel.\n",
      "F:\\Anaconda\\lib\\site-packages\\ipykernel_launcher.py:2: SettingWithCopyWarning: \n",
      "A value is trying to be set on a copy of a slice from a DataFrame.\n",
      "Try using .loc[row_indexer,col_indexer] = value instead\n",
      "\n",
      "See the caveats in the documentation: http://pandas.pydata.org/pandas-docs/stable/indexing.html#indexing-view-versus-copy\n",
      "  \n",
      "F:\\Anaconda\\lib\\site-packages\\ipykernel_launcher.py:3: SettingWithCopyWarning: \n",
      "A value is trying to be set on a copy of a slice from a DataFrame.\n",
      "Try using .loc[row_indexer,col_indexer] = value instead\n",
      "\n",
      "See the caveats in the documentation: http://pandas.pydata.org/pandas-docs/stable/indexing.html#indexing-view-versus-copy\n",
      "  This is separate from the ipykernel package so we can avoid doing imports until\n",
      "F:\\Anaconda\\lib\\site-packages\\ipykernel_launcher.py:4: SettingWithCopyWarning: \n",
      "A value is trying to be set on a copy of a slice from a DataFrame.\n",
      "Try using .loc[row_indexer,col_indexer] = value instead\n",
      "\n",
      "See the caveats in the documentation: http://pandas.pydata.org/pandas-docs/stable/indexing.html#indexing-view-versus-copy\n",
      "  after removing the cwd from sys.path.\n"
     ]
    }
   ],
   "source": [
    "train['user_index'] = train.user_id.map(user_id_index)\n",
    "train['business_index'] = train.business_id.map(business_id_index)\n",
    "test['user_index'] = test.user_id.map(user_id_index)\n",
    "test['business_index'] = test.business_id.map(business_id_index)\n",
    "\n",
    "train = train[['user_index','business_index','stars','date','user_id','business_id']]\n",
    "test = test[['user_index','business_index','stars','date','user_id','business_id']]"
   ]
  },
  {
   "cell_type": "code",
   "execution_count": 9,
   "metadata": {},
   "outputs": [],
   "source": [
    "train.to_csv('spark_train.csv', index=False, header=False)\n",
    "test.to_csv('spark_test.csv', index=False, header=False)"
   ]
  },
  {
   "cell_type": "code",
   "execution_count": 8,
   "metadata": {},
   "outputs": [
    {
     "name": "stdout",
     "output_type": "stream",
     "text": [
      "+----------+--------------+------+-------------------+--------------------+--------------------+\n",
      "|user_index|business_index|rating|               date|             user_id|         business_id|\n",
      "+----------+--------------+------+-------------------+--------------------+--------------------+\n",
      "|         0|             0|   4.0|2008-11-11 04:31:46|---1lKK3aKOuomHnw...|5cbsjFtrntUAeUx51...|\n",
      "|         0|             1|   4.0|2008-11-11 04:40:05|---1lKK3aKOuomHnw...|--9e1ONYQuAa-CB_R...|\n",
      "|         0|             2|   5.0|2009-01-16 21:49:36|---1lKK3aKOuomHnw...|ifEHr-ZnGFSKgJVsy...|\n",
      "|         0|             3|   4.0|2010-10-16 23:27:02|---1lKK3aKOuomHnw...|kosTPb88O4Q0XGbVb...|\n",
      "|         0|             4|   5.0|2010-10-16 23:31:28|---1lKK3aKOuomHnw...|rq5dgoksPHkJwJNQK...|\n",
      "|         0|             5|   1.0|2010-10-17 04:19:01|---1lKK3aKOuomHnw...|2BbFeotL85cIaBjSq...|\n",
      "|         0|             6|   1.0|2010-11-05 20:08:08|---1lKK3aKOuomHnw...|78TC3sZSYBzBsSJ0z...|\n",
      "|         0|             7|   5.0|2010-11-05 21:49:42|---1lKK3aKOuomHnw...|qtOt27b-3Re6zM5OS...|\n",
      "|         0|             8|   5.0|2010-11-05 21:58:29|---1lKK3aKOuomHnw...|CWNMLT-ppaUjLMmrn...|\n",
      "|         0|             0|   1.0|2010-11-05 22:12:55|---1lKK3aKOuomHnw...|5cbsjFtrntUAeUx51...|\n",
      "|         0|             9|   4.0|2010-11-09 20:09:42|---1lKK3aKOuomHnw...|DXlDzOcpdUE_F21to...|\n",
      "|         0|            10|   5.0|2010-11-09 20:11:47|---1lKK3aKOuomHnw...|KskYqH1Bi7Z_61pH6...|\n",
      "|         0|            11|   1.0|2010-11-09 20:18:19|---1lKK3aKOuomHnw...|eduRavkml8awmPach...|\n",
      "|         0|            12|   5.0|2010-11-09 20:21:52|---1lKK3aKOuomHnw...|-ErwgUmZ1-jHW_rSu...|\n",
      "|         0|            13|   5.0|2010-11-09 20:24:31|---1lKK3aKOuomHnw...|ow5ku7hfMqU94mylT...|\n",
      "|         0|            14|   3.0|2010-11-09 20:34:20|---1lKK3aKOuomHnw...|vW65SNLam99SyOuVa...|\n",
      "|         0|            15|   5.0|2010-11-16 03:11:16|---1lKK3aKOuomHnw...|RRw9I8pHt5PzgYGT2...|\n",
      "|         0|            16|   3.0|2010-11-16 03:15:16|---1lKK3aKOuomHnw...|iPM85PQMs7QoAxw-O...|\n",
      "|         0|             2|   2.0|2010-11-16 03:23:07|---1lKK3aKOuomHnw...|ifEHr-ZnGFSKgJVsy...|\n",
      "|         0|            17|   4.0|2010-11-16 03:27:20|---1lKK3aKOuomHnw...|pwLQfEe_yJYwAWWug...|\n",
      "+----------+--------------+------+-------------------+--------------------+--------------------+\n",
      "only showing top 20 rows\n",
      "\n"
     ]
    }
   ],
   "source": [
    "sc = SparkContext('local')\n",
    "spark = SparkSession(sc)\n",
    "\n",
    "spark_train = spark.read.csv(\"spark_train.csv\")\n",
    "spark_test = spark.read.csv('spark_test.csv')\n",
    "\n",
    "spark_train = spark_train.withColumnRenamed('_c0', 'user_index')\n",
    "spark_train = spark_train.withColumnRenamed('_c1', 'business_index')\n",
    "spark_train = spark_train.withColumnRenamed('_c2', 'rating')\n",
    "spark_train = spark_train.withColumnRenamed('_c3', 'date')\n",
    "spark_train = spark_train.withColumnRenamed('_c4', 'user_id')\n",
    "spark_train = spark_train.withColumnRenamed('_c5', 'business_id')\n",
    "spark_train = spark_train.withColumn(\"user_index\", spark_train[\"user_index\"].cast(IntegerType()))\n",
    "spark_train = spark_train.withColumn(\"business_index\", spark_train[\"business_index\"].cast(IntegerType()))\n",
    "spark_train = spark_train.withColumn(\"rating\", spark_train[\"rating\"].cast('float'))\n",
    "spark_train.show()"
   ]
  },
  {
   "cell_type": "code",
   "execution_count": 9,
   "metadata": {},
   "outputs": [
    {
     "name": "stdout",
     "output_type": "stream",
     "text": [
      "+----------+--------------+------+-------------------+--------------------+--------------------+\n",
      "|user_index|business_index|rating|               date|             user_id|         business_id|\n",
      "+----------+--------------+------+-------------------+--------------------+--------------------+\n",
      "|         0|           121|   5.0|2018-10-11 23:29:57|---1lKK3aKOuomHnw...|Hqs4YNST_ZHbshwyi...|\n",
      "|         1|         73463|   2.0|2014-04-21 16:58:28|--0kuuLmuYBe3Rmu0...|PYe_FDw6QTbTf66Wc...|\n",
      "|         2|         29288|   5.0|2018-10-04 02:02:28|--2HUmLkcNHZp0xw6...|KW9RNyBPmc77f9FsO...|\n",
      "|         3|          3746|   3.0|2018-01-11 04:24:17|--2vR0DIsmQ6WfcSz...|BLIJ-p5wYuAhw6Pp6...|\n",
      "|         4|         15598|   4.0|2018-09-03 19:32:11|--3WaS23LcIXtxyFU...|UKrfUw8quQiQM2N9i...|\n",
      "|         5|         12851|   5.0|2018-05-15 19:54:15|--44NNdtngXMzsxyN...|YNf4Yi9l7wa1U8k5K...|\n",
      "|         6|          2272|   3.0|2012-06-17 16:59:06|--4q8EyqThydQm-eK...|rcaPajgKOJC2vo_l3...|\n",
      "|         7|         22441|   1.0|2018-11-12 20:37:07|--4rAAfZnEIAKJE80...|HTaA1mo9cB1dXMwfJ...|\n",
      "|         8|         10397|   4.0|2018-05-24 21:19:54|--7gjElmOrthETJ8X...|UxWH8zRYIBgs6Q2oy...|\n",
      "|         9|          4345|   2.0|2016-08-24 14:55:34|--Br-QsbO9ad5GbZx...|x6PA-2j7LpZAYFo2V...|\n",
      "|        10|         21192|   3.0|2018-10-20 17:56:22|--BumyUHiO_7YsHur...|0L3CAgRf8wuH5MjNw...|\n",
      "|        11|         17407|   5.0|2015-12-11 16:31:56|--CH8yRGXhO2MmbF-...|TZpTyyGvQkKPnt59P...|\n",
      "|        12|          5409|   2.0|2017-11-16 03:38:26|--CIuK7sUpaNzalLA...|g-NKvwy8iLePEQHso...|\n",
      "|        13|          2590|   5.0|2018-10-13 02:26:42|--DxiDMQgN08E5gTM...|C8D_GU9cDDjbOJfCa...|\n",
      "|        14|          9878|   5.0|2014-12-19 23:10:38|--HCoE1ghaAlcaAfs...|0ldxjei8v4q95fApI...|\n",
      "|        15|        176270|   1.0|2018-03-26 07:55:42|--HOeLECewlqBqvFh...|PssNPwuSuOjHAx5WG...|\n",
      "|        16|         74684|   1.0|2018-07-18 00:30:19|--JqEn95hN31sznM1...|12g_z3nFKbN2telbz...|\n",
      "|        17|            59|   4.0|2017-10-19 21:25:53|--LUapetRSkZpFZ2d...|gHoP4eJimaMltfUlp...|\n",
      "|        18|         33893|   5.0|2018-03-05 21:43:05|--NIc98RMssgy0mSZ...|SoUlHQO5jZf2XFHr8...|\n",
      "|        19|        113492|   1.0|2018-10-27 19:02:02|--Nnm_506G_p8MxAO...|vp77iQDlV1OkbjNhm...|\n",
      "+----------+--------------+------+-------------------+--------------------+--------------------+\n",
      "only showing top 20 rows\n",
      "\n"
     ]
    }
   ],
   "source": [
    "spark_test = spark_test.withColumnRenamed('_c0', 'user_index')\n",
    "spark_test = spark_test.withColumnRenamed('_c1', 'business_index')\n",
    "spark_test = spark_test.withColumnRenamed('_c2', 'rating')\n",
    "spark_test = spark_test.withColumnRenamed('_c3', 'date')\n",
    "spark_test = spark_test.withColumnRenamed('_c4', 'user_id')\n",
    "spark_test = spark_test.withColumnRenamed('_c5', 'business_id')\n",
    "spark_test = spark_test.withColumn(\"user_index\", spark_test[\"user_index\"].cast(IntegerType()))\n",
    "spark_test = spark_test.withColumn(\"business_index\", spark_test[\"business_index\"].cast(IntegerType()))\n",
    "spark_test = spark_test.withColumn(\"rating\", spark_test[\"rating\"].cast('float'))\n",
    "spark_test.show()"
   ]
  },
  {
   "cell_type": "code",
   "execution_count": 10,
   "metadata": {},
   "outputs": [],
   "source": [
    "als_5 = ALS(maxIter=5, rank = 5, userCol=\"user_index\", itemCol=\"business_index\", ratingCol=\"rating\",\n",
    "          coldStartStrategy=\"drop\")\n",
    "\n",
    "evaluator = RegressionEvaluator(metricName=\"rmse\", labelCol=\"rating\",\n",
    "                                predictionCol=\"prediction\")\n",
    "\n",
    "model_5 = als_5.fit(spark_train)"
   ]
  },
  {
   "cell_type": "code",
   "execution_count": 20,
   "metadata": {},
   "outputs": [],
   "source": [
    "predictions_5 = model_5.transform(spark_test)\n",
    "spark_prediction = predictions_5.toPandas()\n",
    "spark_prediction.rename(columns={\"rating\": \"stars\"}, inplace=True)"
   ]
  },
  {
   "cell_type": "code",
   "execution_count": 29,
   "metadata": {},
   "outputs": [
    {
     "data": {
      "text/html": [
       "<div>\n",
       "<style scoped>\n",
       "    .dataframe tbody tr th:only-of-type {\n",
       "        vertical-align: middle;\n",
       "    }\n",
       "\n",
       "    .dataframe tbody tr th {\n",
       "        vertical-align: top;\n",
       "    }\n",
       "\n",
       "    .dataframe thead th {\n",
       "        text-align: right;\n",
       "    }\n",
       "</style>\n",
       "<table border=\"1\" class=\"dataframe\">\n",
       "  <thead>\n",
       "    <tr style=\"text-align: right;\">\n",
       "      <th></th>\n",
       "      <th>mae_score</th>\n",
       "      <th>mse_score</th>\n",
       "      <th>rank_accuracy_score</th>\n",
       "    </tr>\n",
       "  </thead>\n",
       "  <tbody>\n",
       "    <tr>\n",
       "      <th>MF(Baseline)</th>\n",
       "      <td>1.3412</td>\n",
       "      <td>3.192332</td>\n",
       "      <td>0.821464</td>\n",
       "    </tr>\n",
       "  </tbody>\n",
       "</table>\n",
       "</div>"
      ],
      "text/plain": [
       "              mae_score  mse_score  rank_accuracy_score\n",
       "MF(Baseline)     1.3412   3.192332             0.821464"
      ]
     },
     "execution_count": 29,
     "metadata": {},
     "output_type": "execute_result"
    }
   ],
   "source": [
    "mae_score,mse_score,rank_accuracy_score = get_metrics(sum_dict,spark_prediction)\n",
    "result = pd.DataFrame(columns = ['mae_score','mse_score','rank_accuracy_score'])\n",
    "result.loc['MF(Baseline)'] = [mae_score,mse_score,rank_accuracy_score]\n",
    "result"
   ]
  },
  {
   "cell_type": "markdown",
   "metadata": {},
   "source": [
    "After implementing MF, we can see that all these three metrics increase a lot. However, we only use user_id, business_id as our features when we trained this baseline model. In the next section, we will try more features and a new model."
   ]
  },
  {
   "cell_type": "markdown",
   "metadata": {},
   "source": [
    "## 4 Feature Engineer\n",
    "In this section, we deal with part of the original features and convert them into union form. Feature engineering includes modification of following features:\n",
    "\n",
    "- Average stars, useful, cool and funny of the user\n",
    "- Count of friends of the user\n",
    "- Embedded vector of business feature\n",
    " - Summation of review text vector\n",
    " - Categorical vector\n",
    " - Name vector\n",
    "- Feature vector of user"
   ]
  },
  {
   "cell_type": "markdown",
   "metadata": {},
   "source": [
    "### 4.1 user part"
   ]
  },
  {
   "cell_type": "code",
   "execution_count": 134,
   "metadata": {},
   "outputs": [],
   "source": [
    "y_train = train_df['stars']\n",
    "x_train = train_df[['user_id','business_id','text']]\n",
    "y_test = test_df['stars']\n",
    "x_test = test_df[['user_id','business_id','text']]"
   ]
  },
  {
   "cell_type": "code",
   "execution_count": 130,
   "metadata": {},
   "outputs": [],
   "source": [
    "user_df['friends_count'] = user_df['friends'].apply(lambda x:len(x.split(',')) if x else 0)\n",
    "for col in ['cool','fans','funny','useful']:\n",
    "    user_df['average_' + col] = user_df[col] / user_df['review_count']"
   ]
  },
  {
   "cell_type": "code",
   "execution_count": 135,
   "metadata": {},
   "outputs": [],
   "source": [
    "x_train = x_train.merge(user_df[['user_id','average_stars','average_cool','average_fans','average_funny','average_useful','friends_count']],\n",
    "                       on = 'user_id',how= 'inner')\n",
    "x_test = x_test.merge(user_df[['user_id','average_stars','average_cool','average_fans','average_funny','average_useful','friends_count']],\n",
    "                       on = 'user_id',how= 'inner')"
   ]
  },
  {
   "cell_type": "markdown",
   "metadata": {},
   "source": [
    "### 4.2 business part"
   ]
  },
  {
   "cell_type": "code",
   "execution_count": 200,
   "metadata": {},
   "outputs": [],
   "source": [
    "x_train['text'].fillna(\"\",inplace = True)"
   ]
  },
  {
   "cell_type": "code",
   "execution_count": null,
   "metadata": {},
   "outputs": [],
   "source": [
    "start = time.time()\n",
    "tfidf_vec = TfidfVectorizer(stop_words='english')\n",
    "tfidf_vec.fit(x_train['text'])\n",
    "print(time.time() - start)"
   ]
  },
  {
   "cell_type": "code",
   "execution_count": null,
   "metadata": {},
   "outputs": [],
   "source": [
    "start = time.time()\n",
    "text_tfidf = tfidf_vec.transform(x_train['text'])\n",
    "x_train['text_tfidf'] = [text_tfidf[i] for i in tqdm_notebook(range(len(train_df)))]\n",
    "print(time.time() - start)"
   ]
  },
  {
   "cell_type": "code",
   "execution_count": null,
   "metadata": {},
   "outputs": [],
   "source": [
    "start = time.time()\n",
    "text_tfidf = tfidf_vec.transform(x_test['text'])\n",
    "x_test['text_tfidf'] = [text_tfidf[i] for i in tqdm_notebook(range(len(test_df)))]\n",
    "print(time.time() - start)"
   ]
  },
  {
   "cell_type": "code",
   "execution_count": null,
   "metadata": {},
   "outputs": [],
   "source": [
    "x_train[:1000][['business_id','text_tfidf']].groupby('business_id').apply(lambda x:x['text_tfidf'].sum())"
   ]
  },
  {
   "cell_type": "markdown",
   "metadata": {},
   "source": [
    "## 5 Factorization Machine\n",
    "In this section, we utilize factorization machine as a method to include side information of user and business. We join the features and one-hotted index together to run the FM based on fastFM. "
   ]
  },
  {
   "cell_type": "code",
   "execution_count": null,
   "metadata": {},
   "outputs": [],
   "source": []
  }
 ],
 "metadata": {
  "kernelspec": {
   "display_name": "Python 3",
   "language": "python",
   "name": "python3"
  },
  "language_info": {
   "codemirror_mode": {
    "name": "ipython",
    "version": 3
   },
   "file_extension": ".py",
   "mimetype": "text/x-python",
   "name": "python",
   "nbconvert_exporter": "python",
   "pygments_lexer": "ipython3",
   "version": "3.7.3"
  }
 },
 "nbformat": 4,
 "nbformat_minor": 2
}
